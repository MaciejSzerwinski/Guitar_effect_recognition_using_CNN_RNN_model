{
 "cells": [
  {
   "cell_type": "code",
   "id": "initial_id",
   "metadata": {
    "collapsed": true,
    "ExecuteTime": {
     "end_time": "2024-09-11T11:35:44.426533Z",
     "start_time": "2024-09-11T11:35:40.890730Z"
    }
   },
   "source": [
    "import torch\n",
    "import torch.optim as optim\n",
    "import torchvision.transforms as transforms\n",
    "import torch.nn as nn\n",
    "import torch.nn.functional as F\n",
    "import numpy as np\n",
    "import matplotlib\n",
    "import matplotlib.pyplot as plt\n",
    "import sklearn\n",
    "from sklearn.metrics import confusion_matrix\n",
    "import seaborn as sns\n",
    "import pandas as pd\n",
    "import csv\n",
    "\n",
    "#import dataset\n",
    "import datasplit\n",
    "import model.models as models\n",
    "import trainer\n",
    "import utils\n",
    "\n",
    "pd.set_option(\"display.max_rows\", None, \"display.max_columns\", None)"
   ],
   "outputs": [],
   "execution_count": 1
  },
  {
   "metadata": {
    "ExecuteTime": {
     "end_time": "2024-09-11T11:35:44.504151Z",
     "start_time": "2024-09-11T11:35:44.428740Z"
    }
   },
   "cell_type": "code",
   "source": [
    "models_folder = 'G:/PracaMagisterska/Kod_na_magisterke/gfx-classifier_RNN_version-models_and_results/models'\n",
    "model_name = '20201027_fxnet_mono_disc_best'\n",
    "results_folder = 'G:/PracaMagisterska/Kod_na_magisterke/gfx-classifier_RNN_version-models_and_results/result'\n",
    "results_subfolder = '20201027_fxnet_mono_disc'\n",
    "\n",
    "all_train_losses = np.load(file=('%s/%s/%s' % (results_folder, results_subfolder, 'all_train_losses.npy')), allow_pickle=True)\n",
    "all_train_correct = np.load(file=('%s/%s/%s' % (results_folder, results_subfolder, 'all_train_correct.npy')), allow_pickle=True)\n",
    "best_train_results = np.load(file=('%s/%s/%s' % (results_folder, results_subfolder, 'best_train_results.npy')), allow_pickle=True)\n",
    "\n",
    "all_val_losses = np.load(file=('%s/%s/%s' % (results_folder, results_subfolder, 'all_val_losses.npy')), allow_pickle=True)\n",
    "all_val_correct = np.load(file=('%s/%s/%s' % (results_folder, results_subfolder, 'all_val_correct.npy')), allow_pickle=True)\n",
    "best_val_results = np.load(file=('%s/%s/%s' % (results_folder, results_subfolder, 'best_val_results.npy')), allow_pickle=True)\n",
    "\n",
    "all_test_losses = np.load(file=('%s/%s/%s' % (results_folder, results_subfolder, 'all_test_losses.npy')), allow_pickle=True)\n",
    "all_test_correct = np.load(file=('%s/%s/%s' % (results_folder, results_subfolder, 'all_test_correct.npy')), allow_pickle=True)\n",
    "best_test_results = np.load(file=('%s/%s/%s' % (results_folder, results_subfolder, 'best_test_results.npy')), allow_pickle=True)\n",
    "\n",
    "fx_labels = np.load(file=('%s/%s/%s' % (results_folder, results_subfolder, 'fx_labels.npy')), allow_pickle=True)\n",
    "\n",
    "train_set_size = best_train_results.shape[0]\n",
    "val_set_size = best_val_results.shape[0]\n",
    "test_set_size = best_test_results.shape[0]"
   ],
   "id": "7f1140a8c11ef733",
   "outputs": [],
   "execution_count": 2
  },
  {
   "metadata": {
    "ExecuteTime": {
     "end_time": "2024-09-11T11:35:44.519481Z",
     "start_time": "2024-09-11T11:35:44.505238Z"
    }
   },
   "cell_type": "code",
   "source": "best_test_results[0]",
   "id": "3f280f8b3f89e7fa",
   "outputs": [
    {
     "data": {
      "text/plain": [
       "array(['16835', 'G71-66602-BD2-G8T0-20816', '1', '1'], dtype='<U26')"
      ]
     },
     "execution_count": 3,
     "metadata": {},
     "output_type": "execute_result"
    }
   ],
   "execution_count": 3
  },
  {
   "metadata": {
    "ExecuteTime": {
     "end_time": "2024-09-11T11:35:44.535266Z",
     "start_time": "2024-09-11T11:35:44.521922Z"
    }
   },
   "cell_type": "code",
   "source": "fx_labels",
   "id": "830448df71130a3e",
   "outputs": [
    {
     "data": {
      "text/plain": [
       "array(['808', 'BD2', 'BMF', 'DPL', 'DS1', 'FFC', 'MGS', 'OD1', 'RAT',\n",
       "       'RBM', 'SD1', 'TS9', 'VTB'], dtype='<U3')"
      ]
     },
     "execution_count": 4,
     "metadata": {},
     "output_type": "execute_result"
    }
   ],
   "execution_count": 4
  },
  {
   "metadata": {
    "ExecuteTime": {
     "end_time": "2024-09-11T11:36:27.014525Z",
     "start_time": "2024-09-11T11:36:26.809129Z"
    }
   },
   "cell_type": "code",
   "source": [
    "# CONFUSION MATRICES\n",
    "\n",
    "# Find best performance epoch based on validation\n",
    "# Extract results from training and test for that epoch\n",
    "best_val = 100 * max(all_val_correct) / val_set_size\n",
    "best_val_idx = np.argmax(all_val_correct)\n",
    "\n",
    "print(\"Best Validation Accuracy: \",best_val, \"at epoch \", best_val_idx)\n",
    "print(\"Training Accuracy: \", 100 * all_train_correct[best_val_idx] / train_set_size)\n",
    "print(\"Test Accuracy: \", 100 * all_test_correct[best_val_idx] / test_set_size)\n",
    "\n",
    "# Confusion matrices for best validation epoch\n",
    "# extract predictions and targets vectors\n",
    "train_preds = best_train_results[:, 2]\n",
    "train_targets = best_train_results[:, 3]\n",
    "val_preds = best_val_results[:, 2]\n",
    "val_targets = best_val_results[:, 3]\n",
    "test_preds = best_test_results[:, 2]\n",
    "test_targets = best_test_results[:, 3]\n",
    "\n",
    "# calculate conf. matrix\n",
    "train_cm = confusion_matrix(y_true=train_targets, y_pred=train_preds, labels=['0','1','2','3','4','5','6','7','8','9','10','11','12'])\n",
    "val_cm = confusion_matrix(y_true=val_targets, y_pred=val_preds, labels=['0','1','2','3','4','5','6','7','8','9','10','11','12'])\n",
    "test_cm = confusion_matrix(y_true=test_targets, y_pred=test_preds, labels=['0','1','2','3','4','5','6','7','8','9','10','11','12'])"
   ],
   "id": "a0135a8fd5b649fc",
   "outputs": [
    {
     "name": "stdout",
     "output_type": "stream",
     "text": [
      "Best Validation Accuracy:  88.13353566009104 at epoch  65\n",
      "Training Accuracy:  89.2036512433113\n",
      "Test Accuracy:  88.87944640038849\n"
     ]
    }
   ],
   "execution_count": 5
  },
  {
   "metadata": {
    "ExecuteTime": {
     "end_time": "2024-09-11T11:36:44.456974Z",
     "start_time": "2024-09-11T11:36:44.442348Z"
    }
   },
   "cell_type": "code",
   "source": "print(test_cm)",
   "id": "8b969f0798463580",
   "outputs": [
    {
     "name": "stdout",
     "output_type": "stream",
     "text": [
      "[[  39    0    0    0    0    0    0    0    0    0    0 2401    0]\n",
      " [   0 2543    0    0    5    1    1    0    1    8    2    0    0]\n",
      " [   0    1 2485    0    0    0    0    3    0    2    3    0    0]\n",
      " [   0    0    0  436    0    1    0    0   31    0    0    0    0]\n",
      " [   0    1    0    0 2519    0    0    0    5    1    1    0    0]\n",
      " [   0    0    0    0    0  647    0    0    0    0    0    0    0]\n",
      " [   1    0    0    0    0    0 2498    0    5    0    2    0    0]\n",
      " [   0    0    0    0    0    0    0  409    0    0  107    0    0]\n",
      " [   0    0    0   41    0    0    0    0 2496    0    1    0    0]\n",
      " [   0    0    1    0    0    0    0    0    0 2497    3    0    0]\n",
      " [   2    0    1    0    1    0    0   82    0    0 2337    0    0]\n",
      " [  32    0    0    0    0    0    0    0    0    0    1 2460    0]\n",
      " [   0    0    0    0    0    0    0    0    0    0    0    0  597]]\n"
     ]
    }
   ],
   "execution_count": 6
  },
  {
   "metadata": {
    "ExecuteTime": {
     "end_time": "2024-09-11T11:37:17.620072Z",
     "start_time": "2024-09-11T11:37:16.647993Z"
    }
   },
   "cell_type": "code",
   "source": [
    "# Test CM\n",
    "plt.figure(figsize=(10,10))\n",
    "\n",
    "utils.plot_confusion_matrix(test_cm, fx_labels, normalize=False)\n",
    "\n",
    "plt.xlabel('True label', fontsize=16)\n",
    "plt.ylabel('Predicted label', fontsize=16)\n",
    "# plt.title('FxNet - train = mono - test = mono', fontsize=20)\n",
    "plt.rc('xtick', labelsize=16)\n",
    "plt.rc('ytick', labelsize=16)\n",
    "plt.rc('font', size=16)\n",
    "\n",
    "\n",
    "# plt.savefig('%s/%s/%s' % (results_folder, results_subfolder, 'fxnet_test_cm_norm.png'))"
   ],
   "id": "5b98106e43605ce4",
   "outputs": [
    {
     "data": {
      "text/plain": [
       "<Figure size 1000x1000 with 1 Axes>"
      ],
      "image/png": "[encoded data removed]"
     },
     "metadata": {},
     "output_type": "display_data"
    }
   ],
   "execution_count": 7
  },
  {
   "metadata": {
    "ExecuteTime": {
     "end_time": "2024-09-11T11:39:37.937145Z",
     "start_time": "2024-09-11T11:39:37.827669Z"
    }
   },
   "cell_type": "code",
   "source": [
    "# extract vectors for dataframe\n",
    "test_indexes = best_test_results[:, 0]\n",
    "test_filenames = best_test_results[:, 1] \n",
    "test_preds = np.stack(best_test_results[:, 2])\n",
    "test_targets = np.stack(best_test_results[:, 3])\n",
    "\n",
    "test_df = pd.DataFrame(data={\n",
    "                                'index': test_indexes, \n",
    "                                'filename': test_filenames,\n",
    "                                'fx_pred': test_preds,\n",
    "                                'fx_targ': test_targets \n",
    "                            })\n",
    "test_df[:5]"
   ],
   "id": "28b4fe8988a30f6d",
   "outputs": [
    {
     "data": {
      "text/plain": [
       "   index                  filename fx_pred fx_targ\n",
       "0  16835  G71-66602-BD2-G8T0-20816       1       1\n",
       "1   6167  G73-73609-808-O2T2-20901      11       0\n",
       "2  21854  G91-40100-BD2-G5T8-21061       1       1\n",
       "3  70819  G61-50110-RAT-D2F2-20603       8       8\n",
       "4  35879  G91-76612-BMF-S8T8-21138       2       2"
      ],
      "text/html": [
       "<div>\n",
       "<style scoped>\n",
       "    .dataframe tbody tr th:only-of-type {\n",
       "        vertical-align: middle;\n",
       "    }\n",
       "\n",
       "    .dataframe tbody tr th {\n",
       "        vertical-align: top;\n",
       "    }\n",
       "\n",
       "    .dataframe thead th {\n",
       "        text-align: right;\n",
       "    }\n",
       "</style>\n",
       "<table border=\"1\" class=\"dataframe\">\n",
       "  <thead>\n",
       "    <tr style=\"text-align: right;\">\n",
       "      <th></th>\n",
       "      <th>index</th>\n",
       "      <th>filename</th>\n",
       "      <th>fx_pred</th>\n",
       "      <th>fx_targ</th>\n",
       "    </tr>\n",
       "  </thead>\n",
       "  <tbody>\n",
       "    <tr>\n",
       "      <th>0</th>\n",
       "      <td>16835</td>\n",
       "      <td>G71-66602-BD2-G8T0-20816</td>\n",
       "      <td>1</td>\n",
       "      <td>1</td>\n",
       "    </tr>\n",
       "    <tr>\n",
       "      <th>1</th>\n",
       "      <td>6167</td>\n",
       "      <td>G73-73609-808-O2T2-20901</td>\n",
       "      <td>11</td>\n",
       "      <td>0</td>\n",
       "    </tr>\n",
       "    <tr>\n",
       "      <th>2</th>\n",
       "      <td>21854</td>\n",
       "      <td>G91-40100-BD2-G5T8-21061</td>\n",
       "      <td>1</td>\n",
       "      <td>1</td>\n",
       "    </tr>\n",
       "    <tr>\n",
       "      <th>3</th>\n",
       "      <td>70819</td>\n",
       "      <td>G61-50110-RAT-D2F2-20603</td>\n",
       "      <td>8</td>\n",
       "      <td>8</td>\n",
       "    </tr>\n",
       "    <tr>\n",
       "      <th>4</th>\n",
       "      <td>35879</td>\n",
       "      <td>G91-76612-BMF-S8T8-21138</td>\n",
       "      <td>2</td>\n",
       "      <td>2</td>\n",
       "    </tr>\n",
       "  </tbody>\n",
       "</table>\n",
       "</div>"
      ]
     },
     "execution_count": 8,
     "metadata": {},
     "output_type": "execute_result"
    }
   ],
   "execution_count": 8
  },
  {
   "metadata": {
    "ExecuteTime": {
     "end_time": "2024-09-11T11:40:04.550402Z",
     "start_time": "2024-09-11T11:40:04.546405Z"
    }
   },
   "cell_type": "code",
   "source": "fx_labels",
   "id": "b0e05fe395c08d40",
   "outputs": [
    {
     "data": {
      "text/plain": [
       "array(['808', 'BD2', 'BMF', 'DPL', 'DS1', 'FFC', 'MGS', 'OD1', 'RAT',\n",
       "       'RBM', 'SD1', 'TS9', 'VTB'], dtype='<U3')"
      ]
     },
     "execution_count": 9,
     "metadata": {},
     "output_type": "execute_result"
    }
   ],
   "execution_count": 9
  },
  {
   "metadata": {
    "ExecuteTime": {
     "end_time": "2024-09-11T11:40:35.629415Z",
     "start_time": "2024-09-11T11:40:35.599123Z"
    }
   },
   "cell_type": "code",
   "source": [
    "# select one effect to analyse - change fx label string accordingly\n",
    "fx1 = test_df[test_df['filename'].str.contains('-DPL-')]\n",
    "fx2 = test_df[test_df['filename'].str.contains('-RAT-')]"
   ],
   "id": "f575ff198c9976a",
   "outputs": [],
   "execution_count": 10
  },
  {
   "metadata": {
    "ExecuteTime": {
     "end_time": "2024-09-11T11:40:37.970989Z",
     "start_time": "2024-09-11T11:40:37.956950Z"
    }
   },
   "cell_type": "code",
   "source": "fx1.head()",
   "id": "c731e7497764652c",
   "outputs": [
    {
     "data": {
      "text/plain": [
       "     index                 filename fx_pred fx_targ\n",
       "28   39541   G91-65506-DPL-D2-21119       3       3\n",
       "137  39095   G83-52302-DPL-D8-21011       3       3\n",
       "140  38400  G73-45200-DPL-D10-20840       3       3\n",
       "146  38708  G81-45105-DPL-D10-20910       3       3\n",
       "178  39568  G91-67603-DPL-D10-21129       3       3"
      ],
      "text/html": [
       "<div>\n",
       "<style scoped>\n",
       "    .dataframe tbody tr th:only-of-type {\n",
       "        vertical-align: middle;\n",
       "    }\n",
       "\n",
       "    .dataframe tbody tr th {\n",
       "        vertical-align: top;\n",
       "    }\n",
       "\n",
       "    .dataframe thead th {\n",
       "        text-align: right;\n",
       "    }\n",
       "</style>\n",
       "<table border=\"1\" class=\"dataframe\">\n",
       "  <thead>\n",
       "    <tr style=\"text-align: right;\">\n",
       "      <th></th>\n",
       "      <th>index</th>\n",
       "      <th>filename</th>\n",
       "      <th>fx_pred</th>\n",
       "      <th>fx_targ</th>\n",
       "    </tr>\n",
       "  </thead>\n",
       "  <tbody>\n",
       "    <tr>\n",
       "      <th>28</th>\n",
       "      <td>39541</td>\n",
       "      <td>G91-65506-DPL-D2-21119</td>\n",
       "      <td>3</td>\n",
       "      <td>3</td>\n",
       "    </tr>\n",
       "    <tr>\n",
       "      <th>137</th>\n",
       "      <td>39095</td>\n",
       "      <td>G83-52302-DPL-D8-21011</td>\n",
       "      <td>3</td>\n",
       "      <td>3</td>\n",
       "    </tr>\n",
       "    <tr>\n",
       "      <th>140</th>\n",
       "      <td>38400</td>\n",
       "      <td>G73-45200-DPL-D10-20840</td>\n",
       "      <td>3</td>\n",
       "      <td>3</td>\n",
       "    </tr>\n",
       "    <tr>\n",
       "      <th>146</th>\n",
       "      <td>38708</td>\n",
       "      <td>G81-45105-DPL-D10-20910</td>\n",
       "      <td>3</td>\n",
       "      <td>3</td>\n",
       "    </tr>\n",
       "    <tr>\n",
       "      <th>178</th>\n",
       "      <td>39568</td>\n",
       "      <td>G91-67603-DPL-D10-21129</td>\n",
       "      <td>3</td>\n",
       "      <td>3</td>\n",
       "    </tr>\n",
       "  </tbody>\n",
       "</table>\n",
       "</div>"
      ]
     },
     "execution_count": 11,
     "metadata": {},
     "output_type": "execute_result"
    }
   ],
   "execution_count": 11
  },
  {
   "metadata": {
    "ExecuteTime": {
     "end_time": "2024-09-11T11:41:09.579052Z",
     "start_time": "2024-09-11T11:41:09.564770Z"
    }
   },
   "cell_type": "code",
   "source": "fx2.head()",
   "id": "85e8225eba58dba3",
   "outputs": [
    {
     "data": {
      "text/plain": [
       "    index                   filename fx_pred fx_targ\n",
       "3   70819   G61-50110-RAT-D2F2-20603       8       8\n",
       "10  78220   G81-72608-RAT-D2F5-20978       8       8\n",
       "11  75685   G73-53208-RAT-D5F5-20848       8       8\n",
       "19  74643  G71-62503-RAT-D5F10-20804       8       8\n",
       "30  74481   G71-60310-RAT-D2F8-20785       8       8"
      ],
      "text/html": [
       "<div>\n",
       "<style scoped>\n",
       "    .dataframe tbody tr th:only-of-type {\n",
       "        vertical-align: middle;\n",
       "    }\n",
       "\n",
       "    .dataframe tbody tr th {\n",
       "        vertical-align: top;\n",
       "    }\n",
       "\n",
       "    .dataframe thead th {\n",
       "        text-align: right;\n",
       "    }\n",
       "</style>\n",
       "<table border=\"1\" class=\"dataframe\">\n",
       "  <thead>\n",
       "    <tr style=\"text-align: right;\">\n",
       "      <th></th>\n",
       "      <th>index</th>\n",
       "      <th>filename</th>\n",
       "      <th>fx_pred</th>\n",
       "      <th>fx_targ</th>\n",
       "    </tr>\n",
       "  </thead>\n",
       "  <tbody>\n",
       "    <tr>\n",
       "      <th>3</th>\n",
       "      <td>70819</td>\n",
       "      <td>G61-50110-RAT-D2F2-20603</td>\n",
       "      <td>8</td>\n",
       "      <td>8</td>\n",
       "    </tr>\n",
       "    <tr>\n",
       "      <th>10</th>\n",
       "      <td>78220</td>\n",
       "      <td>G81-72608-RAT-D2F5-20978</td>\n",
       "      <td>8</td>\n",
       "      <td>8</td>\n",
       "    </tr>\n",
       "    <tr>\n",
       "      <th>11</th>\n",
       "      <td>75685</td>\n",
       "      <td>G73-53208-RAT-D5F5-20848</td>\n",
       "      <td>8</td>\n",
       "      <td>8</td>\n",
       "    </tr>\n",
       "    <tr>\n",
       "      <th>19</th>\n",
       "      <td>74643</td>\n",
       "      <td>G71-62503-RAT-D5F10-20804</td>\n",
       "      <td>8</td>\n",
       "      <td>8</td>\n",
       "    </tr>\n",
       "    <tr>\n",
       "      <th>30</th>\n",
       "      <td>74481</td>\n",
       "      <td>G71-60310-RAT-D2F8-20785</td>\n",
       "      <td>8</td>\n",
       "      <td>8</td>\n",
       "    </tr>\n",
       "  </tbody>\n",
       "</table>\n",
       "</div>"
      ]
     },
     "execution_count": 12,
     "metadata": {},
     "output_type": "execute_result"
    }
   ],
   "execution_count": 12
  },
  {
   "metadata": {
    "ExecuteTime": {
     "end_time": "2024-09-11T11:44:10.844709Z",
     "start_time": "2024-09-11T11:44:10.671634Z"
    }
   },
   "cell_type": "code",
   "source": [
    "# select wrong predictions - change effect label number accordingly (e.g. 10 = SD1)\n",
    "fx1_wrong_pred = fx1[fx1['fx_pred'].str.contains('8')]\n",
    "fx2_wrong_pred = fx2[fx2['fx_pred'].str.contains('3')]\n",
    "wrong_df = pd.concat([fx1_wrong_pred, fx2_wrong_pred], ignore_index=True)"
   ],
   "id": "c2c8c8760585036f",
   "outputs": [],
   "execution_count": 13
  },
  {
   "metadata": {
    "ExecuteTime": {
     "end_time": "2024-09-11T11:44:19.235788Z",
     "start_time": "2024-09-11T11:44:19.205788Z"
    }
   },
   "cell_type": "code",
   "source": [
    "# print number of wrong predictions as a function of parameters\n",
    "print('D10: ',  len(fx1_wrong_pred[fx1_wrong_pred['filename'].str.contains('-D10')]))\n",
    "print('D8: ',   len(fx1_wrong_pred[fx1_wrong_pred['filename'].str.contains('-D8')]))\n",
    "print('D5: ',   len(fx1_wrong_pred[fx1_wrong_pred['filename'].str.contains('-D5')]))\n",
    "print('D2: ',   len(fx1_wrong_pred[fx1_wrong_pred['filename'].str.contains('-D2')]))\n",
    "print()\n",
    "print('D10 T10: ',   len(fx1_wrong_pred[fx1_wrong_pred['filename'].str.contains('-D10T10-')]))\n",
    "print('D10 T8 : ',   len(fx1_wrong_pred[fx1_wrong_pred['filename'].str.contains('-D10T8-')]))\n",
    "print('D10 T5 : ',   len(fx1_wrong_pred[fx1_wrong_pred['filename'].str.contains('-D10T5-')]))\n",
    "print('D10 T2 : ',   len(fx1_wrong_pred[fx1_wrong_pred['filename'].str.contains('-D10T2-')]))\n",
    "print('D10 T0 : ',   len(fx1_wrong_pred[fx1_wrong_pred['filename'].str.contains('-D10T0-')]))\n",
    "print()\n",
    "print('D8 T10: ',   len(fx1_wrong_pred[fx1_wrong_pred['filename'].str.contains('-D8T10-')]))\n",
    "print('D8 T8 : ',   len(fx1_wrong_pred[fx1_wrong_pred['filename'].str.contains('-D8T8-')]))\n",
    "print('D8 T5 : ',   len(fx1_wrong_pred[fx1_wrong_pred['filename'].str.contains('-D8T5-')]))\n",
    "print('D8 T2 : ',   len(fx1_wrong_pred[fx1_wrong_pred['filename'].str.contains('-D8T2-')]))\n",
    "print('D8 T0 : ',   len(fx1_wrong_pred[fx1_wrong_pred['filename'].str.contains('-D8T0-')]))\n",
    "print()\n",
    "print('D5 T10: ',   len(fx1_wrong_pred[fx1_wrong_pred['filename'].str.contains('-D5T10-')]))\n",
    "print('D5 T8 : ',   len(fx1_wrong_pred[fx1_wrong_pred['filename'].str.contains('-D5T8-')]))\n",
    "print('D5 T5 : ',   len(fx1_wrong_pred[fx1_wrong_pred['filename'].str.contains('-D5T5-')]))\n",
    "print('D5 T2 : ',   len(fx1_wrong_pred[fx1_wrong_pred['filename'].str.contains('-D5T2-')]))\n",
    "print('D5 T0 : ',   len(fx1_wrong_pred[fx1_wrong_pred['filename'].str.contains('-D5T0-')]))\n",
    "print()\n",
    "print('D2 T10: ',   len(fx1_wrong_pred[fx1_wrong_pred['filename'].str.contains('-D2T10-')]))\n",
    "print('D2 T8 : ',   len(fx1_wrong_pred[fx1_wrong_pred['filename'].str.contains('-D2T8-')]))\n",
    "print('D2 T5 : ',   len(fx1_wrong_pred[fx1_wrong_pred['filename'].str.contains('-D2T5-')]))\n",
    "print('D2 T2 : ',   len(fx1_wrong_pred[fx1_wrong_pred['filename'].str.contains('-D2T2-')]))\n",
    "print('D2 T0 : ',   len(fx1_wrong_pred[fx1_wrong_pred['filename'].str.contains('-D2T0-')]))"
   ],
   "id": "da2e8b9c61bd2bc6",
   "outputs": [
    {
     "name": "stdout",
     "output_type": "stream",
     "text": [
      "D10:  13\n",
      "D8:  1\n",
      "D5:  7\n",
      "D2:  10\n",
      "\n",
      "D10 T10:  0\n",
      "D10 T8 :  0\n",
      "D10 T5 :  0\n",
      "D10 T2 :  0\n",
      "D10 T0 :  0\n",
      "\n",
      "D8 T10:  0\n",
      "D8 T8 :  0\n",
      "D8 T5 :  0\n",
      "D8 T2 :  0\n",
      "D8 T0 :  0\n",
      "\n",
      "D5 T10:  0\n",
      "D5 T8 :  0\n",
      "D5 T5 :  0\n",
      "D5 T2 :  0\n",
      "D5 T0 :  0\n",
      "\n",
      "D2 T10:  0\n",
      "D2 T8 :  0\n",
      "D2 T5 :  0\n",
      "D2 T2 :  0\n",
      "D2 T0 :  0\n"
     ]
    }
   ],
   "execution_count": 14
  },
  {
   "metadata": {
    "ExecuteTime": {
     "end_time": "2024-09-11T11:44:49.103189Z",
     "start_time": "2024-09-11T11:44:49.073045Z"
    }
   },
   "cell_type": "code",
   "source": [
    "# print number of wrong predictions as a function of parameters\n",
    "print('D10: ',  len(fx2_wrong_pred[fx2_wrong_pred['filename'].str.contains('-D10')]))\n",
    "print('D8: ',   len(fx2_wrong_pred[fx2_wrong_pred['filename'].str.contains('-D8')]))\n",
    "print('D5: ',   len(fx2_wrong_pred[fx2_wrong_pred['filename'].str.contains('-D5')]))\n",
    "print('D2: ',   len(fx2_wrong_pred[fx2_wrong_pred['filename'].str.contains('-D2')]))\n",
    "print()\n",
    "print('D10 T10: ',   len(fx2_wrong_pred[fx2_wrong_pred['filename'].str.contains('-D10F10-')]))\n",
    "print('D10 T8 : ',   len(fx2_wrong_pred[fx2_wrong_pred['filename'].str.contains('-D10F8-')]))\n",
    "print('D10 T5 : ',   len(fx2_wrong_pred[fx2_wrong_pred['filename'].str.contains('-D10F5-')]))\n",
    "print('D10 T2 : ',   len(fx2_wrong_pred[fx2_wrong_pred['filename'].str.contains('-D10F2-')]))\n",
    "print('D10 T0 : ',   len(fx2_wrong_pred[fx2_wrong_pred['filename'].str.contains('-D10F0-')]))\n",
    "print()\n",
    "print('D8 T10: ',   len(fx2_wrong_pred[fx2_wrong_pred['filename'].str.contains('-D8F10-')]))\n",
    "print('D8 T8 : ',   len(fx2_wrong_pred[fx2_wrong_pred['filename'].str.contains('-D8F8-')]))\n",
    "print('D8 T5 : ',   len(fx2_wrong_pred[fx2_wrong_pred['filename'].str.contains('-D8F5-')]))\n",
    "print('D8 T2 : ',   len(fx2_wrong_pred[fx2_wrong_pred['filename'].str.contains('-D8F2-')]))\n",
    "print('D8 T0 : ',   len(fx2_wrong_pred[fx2_wrong_pred['filename'].str.contains('-D8F0-')]))\n",
    "print()\n",
    "print('D5 T10: ',   len(fx2_wrong_pred[fx2_wrong_pred['filename'].str.contains('-D5F10-')]))\n",
    "print('D5 T8 : ',   len(fx2_wrong_pred[fx2_wrong_pred['filename'].str.contains('-D5F8-')]))\n",
    "print('D5 T5 : ',   len(fx2_wrong_pred[fx2_wrong_pred['filename'].str.contains('-D5F5-')]))\n",
    "print('D5 T2 : ',   len(fx2_wrong_pred[fx2_wrong_pred['filename'].str.contains('-D5F2-')]))\n",
    "print('D5 T0 : ',   len(fx2_wrong_pred[fx2_wrong_pred['filename'].str.contains('-D5F0-')]))\n",
    "print()\n",
    "print('D2 T10: ',   len(fx2_wrong_pred[fx2_wrong_pred['filename'].str.contains('-D2F10-')]))\n",
    "print('D2 T8 : ',   len(fx2_wrong_pred[fx2_wrong_pred['filename'].str.contains('-D2F8-')]))\n",
    "print('D2 T5 : ',   len(fx2_wrong_pred[fx2_wrong_pred['filename'].str.contains('-D2F5-')]))\n",
    "print('D2 T2 : ',   len(fx2_wrong_pred[fx2_wrong_pred['filename'].str.contains('-D2F2-')]))\n",
    "print('D2 T0 : ',   len(fx2_wrong_pred[fx2_wrong_pred['filename'].str.contains('-D2F0-')]))"
   ],
   "id": "dfc30875ef33b6c2",
   "outputs": [
    {
     "name": "stdout",
     "output_type": "stream",
     "text": [
      "D10:  0\n",
      "D8:  1\n",
      "D5:  30\n",
      "D2:  10\n",
      "\n",
      "D10 T10:  0\n",
      "D10 T8 :  0\n",
      "D10 T5 :  0\n",
      "D10 T2 :  0\n",
      "D10 T0 :  0\n",
      "\n",
      "D8 T10:  0\n",
      "D8 T8 :  0\n",
      "D8 T5 :  0\n",
      "D8 T2 :  0\n",
      "D8 T0 :  1\n",
      "\n",
      "D5 T10:  0\n",
      "D5 T8 :  0\n",
      "D5 T5 :  0\n",
      "D5 T2 :  0\n",
      "D5 T0 :  30\n",
      "\n",
      "D2 T10:  0\n",
      "D2 T8 :  0\n",
      "D2 T5 :  0\n",
      "D2 T2 :  3\n",
      "D2 T0 :  7\n"
     ]
    }
   ],
   "execution_count": 15
  },
  {
   "metadata": {
    "ExecuteTime": {
     "end_time": "2024-09-11T11:45:03.911006Z",
     "start_time": "2024-09-11T11:45:03.893330Z"
    }
   },
   "cell_type": "code",
   "source": [
    "# print wrong predictions where D = 5\n",
    "print(wrong_df[wrong_df['filename'].str.contains('-D10-')])"
   ],
   "id": "1b8b1ac9000c0043",
   "outputs": [
    {
     "name": "stdout",
     "output_type": "stream",
     "text": [
      "    index                 filename fx_pred fx_targ\n",
      "0   38500  G73-56211-DPL-D10-20851       8       3\n",
      "6   38024  G63-69605-DPL-D10-20741       8       3\n",
      "8   39228  G83-65506-DPL-D10-21041       8       3\n",
      "9   38824  G81-57212-DPL-D10-20930       8       3\n",
      "11  37544  G61-54209-DPL-D10-20615       8       3\n",
      "12  39504  G91-62312-DPL-D10-21099       8       3\n",
      "13  37564  G61-56211-DPL-D10-20617       8       3\n",
      "14  38104  G71-47202-DPL-D10-20764       8       3\n",
      "15  39520  G91-63504-DPL-D10-21117       8       3\n",
      "20  39896  G93-69605-DPL-D10-21209       8       3\n",
      "23  38856  G81-60310-DPL-D10-20941       8       3\n",
      "26  38084  G71-45105-DPL-D10-20754       8       3\n",
      "27  38180  G71-55305-DPL-D10-20780       8       3\n"
     ]
    }
   ],
   "execution_count": 16
  },
  {
   "metadata": {
    "ExecuteTime": {
     "end_time": "2024-09-11T11:45:20.421645Z",
     "start_time": "2024-09-11T11:45:20.409250Z"
    }
   },
   "cell_type": "code",
   "source": [
    "# print wrong predictions where D = 5\n",
    "print(wrong_df[wrong_df['filename'].str.contains('-D2-')])"
   ],
   "id": "4019b9384b69445b",
   "outputs": [
    {
     "name": "stdout",
     "output_type": "stream",
     "text": [
      "    index                filename fx_pred fx_targ\n",
      "1   39045  G83-48108-DPL-D2-20991       8       3\n",
      "3   37641  G61-62503-DPL-D2-20648       8       3\n",
      "10  38885  G81-62407-DPL-D2-20951       8       3\n",
      "16  38297  G71-65601-DPL-D2-20815       8       3\n",
      "17  39253  G83-67508-DPL-D2-21043       8       3\n",
      "19  39185  G83-61406-DPL-D2-21028       8       3\n",
      "21  37669  G61-65506-DPL-D2-20651       8       3\n",
      "22  39433  G91-55400-DPL-D2-21100       8       3\n",
      "24  37621  G61-61311-DPL-D2-20630       8       3\n",
      "30  38689  G81-40100-DPL-D2-20905       8       3\n"
     ]
    }
   ],
   "execution_count": 17
  },
  {
   "metadata": {
    "ExecuteTime": {
     "end_time": "2024-09-11T11:45:22.903450Z",
     "start_time": "2024-09-11T11:45:22.807922Z"
    }
   },
   "cell_type": "code",
   "source": [
    "import shutil, os\n",
    "\n",
    "in_folder_DPL = 'G:/PracaMagisterska/Dane/Mono_Discret_Audio/DPL'\n",
    "in_folder_RAT = 'G:/PracaMagisterska/Dane/Mono_Discret_Audio/RAT'\n",
    "out_folder_DPL = 'G:/PracaMagisterska/Dane/GFX_listening_test_RNN/DPL'\n",
    "out_folder_RAT = 'G:/PracaMagisterska/Dane/GFX_listening_test_RNN/RAT'\n",
    "\n",
    "wrong_df_sub = wrong_df[wrong_df['filename'].str.contains('-D10-')]\n",
    "for filename in wrong_df_sub['filename']:\n",
    "    shutil.copy('%s/%s%s' % (in_folder_DPL,filename,'.wav'), '%s/%s%s' % (out_folder_DPL,filename,'.wav'))"
   ],
   "id": "f2e6758505097c8",
   "outputs": [],
   "execution_count": 18
  },
  {
   "metadata": {
    "ExecuteTime": {
     "end_time": "2024-09-11T11:45:46.518139Z",
     "start_time": "2024-09-11T11:45:46.506351Z"
    }
   },
   "cell_type": "code",
   "source": [
    "print(filename)\n",
    "print(filename[:9]+'-SD1-'+'D2T0-'+filename[-5:])\n",
    "filename = filename[:9]+'-SD1-'+'D2T0-'+filename[-5:]"
   ],
   "id": "cf205a5f5f2aeee1",
   "outputs": [
    {
     "name": "stdout",
     "output_type": "stream",
     "text": [
      "G71-55305-DPL-D10-20780\n",
      "G71-55305-SD1-D2T0-20780\n"
     ]
    }
   ],
   "execution_count": 19
  },
  {
   "metadata": {
    "ExecuteTime": {
     "end_time": "2024-09-11T11:45:49.220755Z",
     "start_time": "2024-09-11T11:45:49.205758Z"
    }
   },
   "cell_type": "code",
   "source": [
    "# Ensure the string is long enough before accessing specific indices\n",
    "if len(filename) > 14:\n",
    "    # Create a new string by replacing the character at index 14 with 'D'\n",
    "    filename = filename[:14] + 'D' + filename[15:]  # This replaces the character at index 14 with 'D'\n",
    "    print(filename)\n",
    "else:\n",
    "    print(\"Filename is too short to modify at the specified index.\")\n",
    "\n",
    "# Safely access index 17 if it exists\n",
    "if len(filename) > 17:\n",
    "    print(filename[17])  # This will print the character at index 17\n",
    "else:\n",
    "    print(\"Index 17 is out of range for the filename.\")"
   ],
   "id": "42c78ac6f91c38e",
   "outputs": [
    {
     "name": "stdout",
     "output_type": "stream",
     "text": [
      "G71-55305-SD1-D2T0-20780\n",
      "0\n"
     ]
    }
   ],
   "execution_count": 20
  },
  {
   "metadata": {
    "ExecuteTime": {
     "end_time": "2024-09-11T11:45:51.991644Z",
     "start_time": "2024-09-11T11:45:51.982909Z"
    }
   },
   "cell_type": "code",
   "source": "filename[17]",
   "id": "28b9d368511251d0",
   "outputs": [
    {
     "data": {
      "text/plain": [
       "'0'"
      ]
     },
     "execution_count": 21,
     "metadata": {},
     "output_type": "execute_result"
    }
   ],
   "execution_count": 21
  },
  {
   "metadata": {
    "ExecuteTime": {
     "end_time": "2024-09-11T11:45:54.238833Z",
     "start_time": "2024-09-11T11:45:53.985734Z"
    }
   },
   "cell_type": "code",
   "source": [
    "wrong_df_sub = wrong_df[wrong_df['filename'].str.contains('-D10-')]\n",
    "for filename in wrong_df_sub['filename']:\n",
    "    filename = filename[:9]+'-RAT-'+'D2F0-'+filename[-5:]\n",
    "    shutil.copy('%s/%s%s' % (in_folder_RAT,filename,'.wav'), '%s/%s%s' % (out_folder_RAT,filename,'.wav'))\n",
    "    filename = filename[:9]+'-RAT-'+'D5F0-'+filename[-5:]\n",
    "    shutil.copy('%s/%s%s' % (in_folder_RAT,filename,'.wav'), '%s/%s%s' % (out_folder_RAT,filename,'.wav'))\n",
    "    filename = filename[:9]+'-RAT-'+'D8F0-'+filename[-5:]\n",
    "    shutil.copy('%s/%s%s' % (in_folder_RAT,filename,'.wav'), '%s/%s%s' % (out_folder_RAT,filename,'.wav'))"
   ],
   "id": "7e3ac554d65c7109",
   "outputs": [],
   "execution_count": 22
  },
  {
   "metadata": {
    "ExecuteTime": {
     "end_time": "2024-09-11T11:45:56.492405Z",
     "start_time": "2024-09-11T11:45:56.468723Z"
    }
   },
   "cell_type": "code",
   "source": [
    "# select one effect to analyse - change fx label string accordingly\n",
    "df_808 = test_df[test_df['filename'].str.contains('-808-')]\n",
    "df_ts9 = test_df[test_df['filename'].str.contains('-TS9-')]"
   ],
   "id": "a0545363b2130dc9",
   "outputs": [],
   "execution_count": 23
  },
  {
   "metadata": {
    "ExecuteTime": {
     "end_time": "2024-09-11T11:46:04.846404Z",
     "start_time": "2024-09-11T11:46:04.826447Z"
    }
   },
   "cell_type": "code",
   "source": [
    "# select wrong predictions - change effect label number accordingly (e.g. 10 = SD1)\n",
    "wrong_df_808 = df_808[df_808['fx_pred'].str.match('11')]\n",
    "wrong_df_ts9 = df_ts9[df_ts9['fx_pred'].str.match('0')]"
   ],
   "id": "75b975f3d68567e4",
   "outputs": [],
   "execution_count": 24
  },
  {
   "metadata": {
    "ExecuteTime": {
     "end_time": "2024-09-11T11:46:06.193440Z",
     "start_time": "2024-09-11T11:46:06.186690Z"
    }
   },
   "cell_type": "code",
   "source": "wrong_df_808.shape",
   "id": "3b751526f6c67c3c",
   "outputs": [
    {
     "data": {
      "text/plain": [
       "(2401, 4)"
      ]
     },
     "execution_count": 25,
     "metadata": {},
     "output_type": "execute_result"
    }
   ],
   "execution_count": 25
  },
  {
   "metadata": {
    "ExecuteTime": {
     "end_time": "2024-09-11T11:46:07.889250Z",
     "start_time": "2024-09-11T11:46:07.866998Z"
    }
   },
   "cell_type": "code",
   "source": [
    "# Correctly create a copy of the DataFrame to avoid modifying the original\n",
    "wrong_df_808_mod = wrong_df_808.copy()\n",
    "\n",
    "# Use .loc to modify the 'filename' column safely\n",
    "wrong_df_808_mod.loc[:, 'filename'] = wrong_df_808_mod['filename'].apply(lambda x: '%s%s%s' % (x[:14], 'G', x[15:]))"
   ],
   "id": "b20a10400f419323",
   "outputs": [],
   "execution_count": 26
  },
  {
   "metadata": {
    "ExecuteTime": {
     "end_time": "2024-09-11T11:46:09.921872Z",
     "start_time": "2024-09-11T11:46:09.912879Z"
    }
   },
   "cell_type": "code",
   "source": "wrong_df_808_mod.shape",
   "id": "ce3bddcd92683d4b",
   "outputs": [
    {
     "data": {
      "text/plain": [
       "(2401, 4)"
      ]
     },
     "execution_count": 27,
     "metadata": {},
     "output_type": "execute_result"
    }
   ],
   "execution_count": 27
  },
  {
   "metadata": {
    "ExecuteTime": {
     "end_time": "2024-09-11T11:46:11.837378Z",
     "start_time": "2024-09-11T11:46:11.817754Z"
    }
   },
   "cell_type": "code",
   "source": "wrong_df_808_mod.head()",
   "id": "8b1e5eef58890b76",
   "outputs": [
    {
     "data": {
      "text/plain": [
       "    index                    filename fx_pred fx_targ\n",
       "1    6167    G73-73609-808-G2T2-20901      11       0\n",
       "8    4743   G73-43103-808-G10T5-20830      11       0\n",
       "16  12441  G93-75611-808-G10T10-21215      11       0\n",
       "50   5004   G73-50205-808-G10T8-20845      11       0\n",
       "59  11152    G93-48108-808-G5T2-21147      11       0"
      ],
      "text/html": [
       "<div>\n",
       "<style scoped>\n",
       "    .dataframe tbody tr th:only-of-type {\n",
       "        vertical-align: middle;\n",
       "    }\n",
       "\n",
       "    .dataframe tbody tr th {\n",
       "        vertical-align: top;\n",
       "    }\n",
       "\n",
       "    .dataframe thead th {\n",
       "        text-align: right;\n",
       "    }\n",
       "</style>\n",
       "<table border=\"1\" class=\"dataframe\">\n",
       "  <thead>\n",
       "    <tr style=\"text-align: right;\">\n",
       "      <th></th>\n",
       "      <th>index</th>\n",
       "      <th>filename</th>\n",
       "      <th>fx_pred</th>\n",
       "      <th>fx_targ</th>\n",
       "    </tr>\n",
       "  </thead>\n",
       "  <tbody>\n",
       "    <tr>\n",
       "      <th>1</th>\n",
       "      <td>6167</td>\n",
       "      <td>G73-73609-808-G2T2-20901</td>\n",
       "      <td>11</td>\n",
       "      <td>0</td>\n",
       "    </tr>\n",
       "    <tr>\n",
       "      <th>8</th>\n",
       "      <td>4743</td>\n",
       "      <td>G73-43103-808-G10T5-20830</td>\n",
       "      <td>11</td>\n",
       "      <td>0</td>\n",
       "    </tr>\n",
       "    <tr>\n",
       "      <th>16</th>\n",
       "      <td>12441</td>\n",
       "      <td>G93-75611-808-G10T10-21215</td>\n",
       "      <td>11</td>\n",
       "      <td>0</td>\n",
       "    </tr>\n",
       "    <tr>\n",
       "      <th>50</th>\n",
       "      <td>5004</td>\n",
       "      <td>G73-50205-808-G10T8-20845</td>\n",
       "      <td>11</td>\n",
       "      <td>0</td>\n",
       "    </tr>\n",
       "    <tr>\n",
       "      <th>59</th>\n",
       "      <td>11152</td>\n",
       "      <td>G93-48108-808-G5T2-21147</td>\n",
       "      <td>11</td>\n",
       "      <td>0</td>\n",
       "    </tr>\n",
       "  </tbody>\n",
       "</table>\n",
       "</div>"
      ]
     },
     "execution_count": 28,
     "metadata": {},
     "output_type": "execute_result"
    }
   ],
   "execution_count": 28
  }
 ],
 "metadata": {
  "kernelspec": {
   "display_name": "Python 3",
   "language": "python",
   "name": "python3"
  },
  "language_info": {
   "codemirror_mode": {
    "name": "ipython",
    "version": 2
   },
   "file_extension": ".py",
   "mimetype": "text/x-python",
   "name": "python",
   "nbconvert_exporter": "python",
   "pygments_lexer": "ipython2",
   "version": "2.7.6"
  }
 },
 "nbformat": 4,
 "nbformat_minor": 5
}
