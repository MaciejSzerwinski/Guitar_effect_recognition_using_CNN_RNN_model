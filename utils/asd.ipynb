{
 "cells": [
  {
   "cell_type": "code",
   "id": "initial_id",
   "metadata": {
    "collapsed": true,
    "ExecuteTime": {
     "end_time": "2024-08-29T20:54:17.873582Z",
     "start_time": "2024-08-29T20:54:17.205940Z"
    }
   },
   "source": [
    "import librosa\n",
    "import torchvision\n",
    "import torch\n",
    "\n",
    "librosa.show_versions()\n",
    "print(\"Torch version:\", torch.__version__)\n",
    "print(\"Torchvision version:\", torchvision.__version__)"
   ],
   "outputs": [
    {
     "name": "stdout",
     "output_type": "stream",
     "text": [
      "INSTALLED VERSIONS\n",
      "------------------\n",
      "python: 3.9.0 (tags/v3.9.0:9cf6752, Oct  5 2020, 15:34:40) [MSC v.1927 64 bit (AMD64)]\n",
      "\n",
      "librosa: 0.10.2.post1\n",
      "\n",
      "audioread: 3.0.1\n",
      "numpy: 1.26.3\n",
      "scipy: 1.11.4\n",
      "sklearn: 1.3.2\n",
      "joblib: 1.3.2\n",
      "decorator: 5.1.1\n",
      "numba: 0.60.0\n",
      "soundfile: 0.12.1\n",
      "pooch: v1.8.2\n",
      "soxr: 0.5.0\n",
      "typing_extensions: installed, no version number available\n",
      "lazy_loader: 0.4\n",
      "msgpack: 1.0.8\n",
      "\n",
      "numpydoc: None\n",
      "sphinx: None\n",
      "sphinx_rtd_theme: None\n",
      "matplotlib: 3.8.2\n",
      "sphinx_multiversion: None\n",
      "sphinx_gallery: None\n",
      "mir_eval: None\n",
      "ipython: None\n",
      "sphinxcontrib.rsvgconverter: None\n",
      "pytest: None\n",
      "pytest_mpl: None\n",
      "pytest_cov: None\n",
      "samplerate: None\n",
      "resampy: None\n",
      "presets: None\n",
      "packaging: 23.2\n",
      "Torch version: 2.4.0+cpu\n",
      "Torchvision version: 0.19.0+cpu\n"
     ]
    }
   ],
   "execution_count": 4
  },
  {
   "metadata": {},
   "cell_type": "code",
   "outputs": [],
   "execution_count": null,
   "source": "",
   "id": "311fda6e8a177c22"
  }
 ],
 "metadata": {
  "kernelspec": {
   "display_name": "Python 3",
   "language": "python",
   "name": "python3"
  },
  "language_info": {
   "codemirror_mode": {
    "name": "ipython",
    "version": 2
   },
   "file_extension": ".py",
   "mimetype": "text/x-python",
   "name": "python",
   "nbconvert_exporter": "python",
   "pygments_lexer": "ipython2",
   "version": "2.7.6"
  }
 },
 "nbformat": 4,
 "nbformat_minor": 5
}
